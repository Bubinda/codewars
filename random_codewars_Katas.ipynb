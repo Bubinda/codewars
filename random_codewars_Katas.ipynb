{
 "cells": [
  {
   "cell_type": "code",
   "execution_count": 36,
   "metadata": {},
   "outputs": [],
   "source": [
    "def duplicate_count(text):\n",
    "    return [x for x in set(text.lower()) if text.lower().count(x) > 1]"
   ]
  },
  {
   "cell_type": "code",
   "execution_count": 37,
   "metadata": {},
   "outputs": [
    {
     "name": "stdout",
     "output_type": "stream",
     "text": [
      "abcdeaB\n"
     ]
    },
    {
     "data": {
      "text/plain": [
       "['b', 'a']"
      ]
     },
     "execution_count": 37,
     "metadata": {},
     "output_type": "execute_result"
    }
   ],
   "source": [
    "text=\"abcdeaB\"\n",
    "duplicate_count(text)"
   ]
  },
  {
   "cell_type": "code",
   "execution_count": 78,
   "metadata": {},
   "outputs": [],
   "source": [
    "import numpy as np\n",
    "\n",
    "def high_and_low(numbers):\n",
    "    num_list = np.array(numbers.split()).astype(np.int)\n",
    "    return f\"{num_list.max().astype(np.str)} {num_list.min().astype(np.str)}\""
   ]
  },
  {
   "cell_type": "code",
   "execution_count": 79,
   "metadata": {},
   "outputs": [
    {
     "data": {
      "text/plain": [
       "'8 -300'"
      ]
     },
     "execution_count": 79,
     "metadata": {},
     "output_type": "execute_result"
    }
   ],
   "source": [
    "numbers = \"4 6 1 8 2 0 -300\"\n",
    "high_and_low(numbers)"
   ]
  },
  {
   "cell_type": "code",
   "execution_count": 125,
   "metadata": {},
   "outputs": [],
   "source": [
    "def find_short(s):\n",
    "    l = min([len(x) for x in s.split()])\n",
    "    return l # l: shortest word length"
   ]
  },
  {
   "cell_type": "code",
   "execution_count": 126,
   "metadata": {},
   "outputs": [
    {
     "data": {
      "text/plain": [
       "3"
      ]
     },
     "execution_count": 126,
     "metadata": {},
     "output_type": "execute_result"
    }
   ],
   "source": [
    "text = \"bitcoin take over the world maybe who knows perhaps\"\n",
    "find_short(text)"
   ]
  },
  {
   "cell_type": "code",
   "execution_count": 160,
   "metadata": {},
   "outputs": [],
   "source": [
    "def nb_year(p0, percent, aug, p):\n",
    "    years_to_reach_p = 0\n",
    "    \n",
    "    while round(p0) <= p:\n",
    "        p0 += round((p0 * (percent/100)) + aug)\n",
    "        years_to_reach_p += 1\n",
    "        print(p0)\n",
    "            \n",
    "    return years_to_reach_p"
   ]
  },
  {
   "cell_type": "code",
   "execution_count": 163,
   "metadata": {},
   "outputs": [
    {
     "name": "stdout",
     "output_type": "stream",
     "text": [
      "1070\n"
     ]
    },
    {
     "data": {
      "text/plain": [
       "1"
      ]
     },
     "execution_count": 163,
     "metadata": {},
     "output_type": "execute_result"
    }
   ],
   "source": [
    "nb_year()"
   ]
  },
  {
   "cell_type": "code",
   "execution_count": 254,
   "metadata": {},
   "outputs": [],
   "source": [
    "def longest(a1, a2):\n",
    "    text_list = [x for x in set(a1 + a2)]\n",
    "    text_list.sort()\n",
    "    return ''.join(text_list)"
   ]
  },
  {
   "cell_type": "code",
   "execution_count": 255,
   "metadata": {},
   "outputs": [],
   "source": [
    "def longest_2(a1,a2):\n",
    "    return ''.join(sorted(set(a1 + a2)))"
   ]
  },
  {
   "cell_type": "code",
   "execution_count": 256,
   "metadata": {},
   "outputs": [
    {
     "name": "stdout",
     "output_type": "stream",
     "text": [
      "bcdefhijkmnopqruvw\n",
      "bcdefhijkmnopqruvw\n"
     ]
    }
   ],
   "source": [
    "a1 = \"odweoifweihfonernv\"\n",
    "a2 = \"wdkepofjipwrqofmceupb\"\n",
    "print(longest(a1,a2))\n",
    "print(longest_2(a1,a2))"
   ]
  },
  {
   "cell_type": "code",
   "execution_count": 263,
   "metadata": {},
   "outputs": [],
   "source": [
    "def find_uniq(arr):\n",
    "    n = [x for x in set(arr) if arr.count(x) == 1]\n",
    "    return n[0]   # n: unique number in the array"
   ]
  },
  {
   "cell_type": "code",
   "execution_count": 264,
   "metadata": {},
   "outputs": [
    {
     "data": {
      "text/plain": [
       "2"
      ]
     },
     "execution_count": 264,
     "metadata": {},
     "output_type": "execute_result"
    }
   ],
   "source": [
    "find_uniq([1,1,1,2,1,1,1,1])"
   ]
  },
  {
   "cell_type": "code",
   "execution_count": 282,
   "metadata": {},
   "outputs": [],
   "source": [
    "def duplicate_encode(word):\n",
    "    duplicate_chars_list = [x for x in set(word.lower()) if word.lower().count(x) > 1]\n",
    "    encode = \"\"\n",
    "    for x in word:\n",
    "        if x in duplicate_chars_list:\n",
    "            encode += \")\"\n",
    "        else:\n",
    "            encode += \"(\"\n",
    "    return encode"
   ]
  },
  {
   "cell_type": "code",
   "execution_count": 283,
   "metadata": {},
   "outputs": [
    {
     "data": {
      "text/plain": [
       "'()()()'"
      ]
     },
     "execution_count": 283,
     "metadata": {},
     "output_type": "execute_result"
    }
   ],
   "source": [
    "word = \"recede\"\n",
    "duplicate_encode(word)"
   ]
  },
  {
   "cell_type": "code",
   "execution_count": 284,
   "metadata": {},
   "outputs": [],
   "source": [
    "def duplicate_encode(word):\n",
    "    return \"\".join([\"(\" if word.lower().count(c) == 1 else \")\" for c in word.lower()])"
   ]
  },
  {
   "cell_type": "code",
   "execution_count": 295,
   "metadata": {},
   "outputs": [],
   "source": [
    "import regex as re\n",
    "def order(sentence):\n",
    "    text = [x for x in sentence.split()]\n",
    "    text.sort(key=lambda text_string : list(map(int, re.findall(r'\\d+', text_string)))[0])\n",
    "    return ' '.join(text)"
   ]
  },
  {
   "cell_type": "code",
   "execution_count": 296,
   "metadata": {},
   "outputs": [
    {
     "data": {
      "text/plain": [
       "'Thi1s is2 3a T4est'"
      ]
     },
     "execution_count": 296,
     "metadata": {},
     "output_type": "execute_result"
    }
   ],
   "source": [
    "sentence = \"is2 Thi1s T4est 3a\" #\"Thi1s is2 3a T4est\"\n",
    "order(sentence)"
   ]
  },
  {
   "cell_type": "code",
   "execution_count": 297,
   "metadata": {},
   "outputs": [],
   "source": [
    "def order(words):\n",
    "    return ' '.join(sorted(words.split(), key=lambda w:sorted(w)))"
   ]
  },
  {
   "cell_type": "code",
   "execution_count": 298,
   "metadata": {},
   "outputs": [
    {
     "data": {
      "text/plain": [
       "'Thi1s is2 3a T4est'"
      ]
     },
     "execution_count": 298,
     "metadata": {},
     "output_type": "execute_result"
    }
   ],
   "source": [
    "sentence = \"is2 Thi1s T4est 3a\" #\"Thi1s is2 3a T4est\"\n",
    "order(sentence)"
   ]
  },
  {
   "cell_type": "code",
   "execution_count": 299,
   "metadata": {},
   "outputs": [],
   "source": [
    "def expanded_form(num):\n",
    "    "
   ]
  },
  {
   "cell_type": "code",
   "execution_count": null,
   "metadata": {},
   "outputs": [],
   "source": [
    "expanded_form(70304) #, '70000 + 300 + 4'"
   ]
  },
  {
   "cell_type": "code",
   "execution_count": 34,
   "metadata": {},
   "outputs": [
    {
     "name": "stdout",
     "output_type": "stream",
     "text": [
      "#\n",
      "0\n"
     ]
    }
   ],
   "source": [
    "string = \"\"\n",
    "hashtag = generate_hashtag(string)\n",
    "print(hashtag)\n",
    "print(len(string))"
   ]
  },
  {
   "cell_type": "code",
   "execution_count": 33,
   "metadata": {},
   "outputs": [],
   "source": [
    "def generate_hashtag(s):\n",
    "    if s == \"\":\n",
    "        return False\n",
    "    else:\n",
    "        string_list = [string[0].upper()+string[1:].lower() for string in s.split()]\n",
    "        output = \"#\" + \"\".join(string_list)\n",
    "        \n",
    "        return False if (len(output) > 140 or output == \"\") else output\n",
    "        "
   ]
  },
  {
   "cell_type": "code",
   "execution_count": 72,
   "metadata": {},
   "outputs": [
    {
     "name": "stdout",
     "output_type": "stream",
     "text": [
      "2\n"
     ]
    }
   ],
   "source": [
    "output = digital_root(493193)\n",
    "print(output)"
   ]
  },
  {
   "cell_type": "code",
   "execution_count": 69,
   "metadata": {},
   "outputs": [],
   "source": [
    "def digital_root(n):\n",
    "    number = sum([int(num) for num in str(n)])\n",
    "    return number if (number < 10) else digital_root(number)"
   ]
  },
  {
   "cell_type": "code",
   "execution_count": 121,
   "metadata": {},
   "outputs": [
    {
     "name": "stdout",
     "output_type": "stream",
     "text": [
      "7\n"
     ]
    }
   ],
   "source": [
    "seq = [7]\n",
    "b =find_it(seq)\n",
    "print(b)"
   ]
  },
  {
   "cell_type": "code",
   "execution_count": 120,
   "metadata": {},
   "outputs": [],
   "source": [
    "def find_it(seq):\n",
    "    return [key for key, value in dict(zip(seq,[seq.count(n) for n in seq])).items() if value%2 !=0][0]"
   ]
  },
  {
   "cell_type": "code",
   "execution_count": 353,
   "metadata": {},
   "outputs": [
    {
     "name": "stdout",
     "output_type": "stream",
     "text": [
      "[1, 2, 3, 4, 5, 6, 7, 8, 9, 89, 135, 175]\n"
     ]
    }
   ],
   "source": [
    "liste= sum_dig_pow2(1, 200)\n",
    "print(liste)"
   ]
  },
  {
   "cell_type": "code",
   "execution_count": 347,
   "metadata": {},
   "outputs": [],
   "source": [
    "def sum_dig_pow(a, b): \n",
    "    list1 = [i for i in range(a,b+1)]\n",
    "    numbers = [value for key,value in dict(zip(list1,[[int(num) for num in str(number)] for number in list1])).items() if sum([pow(value1,index+1) for index,value1 in enumerate(value)]) == key]\n",
    "    list3 = [int(''.join(map(str,x))) for x in [x for x in numbers]]\n",
    "    return numbers"
   ]
  },
  {
   "cell_type": "code",
   "execution_count": 352,
   "metadata": {},
   "outputs": [],
   "source": [
    "def sum_dig_pow(a, b): \n",
    "    return [int(''.join(map(str,x))) for x in [x for x in [value for key,value in dict(zip([i for i in range(a,b+1)],[[int(num) for num in str(number)] for number in [i for i in range(a,b+1)]])).items() if sum([pow(value1,index+1) for index,value1 in enumerate(value)]) == key]]]"
   ]
  },
  {
   "cell_type": "code",
   "execution_count": 197,
   "metadata": {},
   "outputs": [
    {
     "name": "stdout",
     "output_type": "stream",
     "text": [
      "2\n"
     ]
    }
   ],
   "source": [
    "liste = [1,2,3]\n",
    "if sum([pow(value,index+1) for index,value in enumerate(liste)]) == 32:\n",
    "    x = 2\n",
    "print(x)"
   ]
  },
  {
   "cell_type": "code",
   "execution_count": 286,
   "metadata": {},
   "outputs": [
    {
     "name": "stdout",
     "output_type": "stream",
     "text": [
      "[1, 2, 3, 1, 4, 7, 7, 9, 8, 7, 7, 4, 5, 6, 9, 8]\n"
     ]
    }
   ],
   "source": [
    "array = [[1,2,3,1],\n",
    "         [4,5,6,4],\n",
    "         [7,8,9,7],\n",
    "         [7,8,9,7]]\n",
    "out = snail(array)\n",
    "print(out)"
   ]
  },
  {
   "cell_type": "code",
   "execution_count": 285,
   "metadata": {},
   "outputs": [],
   "source": [
    "def snail(snail_map):\n",
    "    \n",
    "    top = 0\n",
    "    left = 0\n",
    "    bottom = len(snail_map)-1\n",
    "    right = len(snail_map[0])-1\n",
    "    output = []\n",
    "\n",
    "    while top <= bottom and left <= right:\n",
    "\n",
    "        output.extend([(top,i) for i in range(left,right+1)])\n",
    "        top += 1\n",
    "\n",
    "        output.extend([(i,right) for i in range(top,bottom+1)])\n",
    "        right -= 1\n",
    "\n",
    "        if top > bottom: break\n",
    "\n",
    "        output.extend([(bottom,i) for i in range(right,left-1,-1)])\n",
    "        bottom -= 1 \n",
    "\n",
    "        if left > right: break\n",
    "\n",
    "        output.extend([(i,left) for i in range(bottom,top-1,-1)])\n",
    "        left += 1  \n",
    "\n",
    "    return [snail_map[r][c] for r,c in output]\n",
    "\n"
   ]
  },
  {
   "cell_type": "code",
   "execution_count": 7,
   "metadata": {},
   "outputs": [
    {
     "name": "stdout",
     "output_type": "stream",
     "text": [
      "1\n",
      "-20\n"
     ]
    }
   ],
   "source": [
    "m1 = [[1]]\n",
    "detm1=determinant(m1)\n",
    "print(detm1)\n",
    "m2 = [ [2,5,3], [1,-2,-1], [1, 3, 4]]\n",
    "detm2 =determinant(m2)\n",
    "print(detm2)"
   ]
  },
  {
   "cell_type": "code",
   "execution_count": 6,
   "metadata": {},
   "outputs": [],
   "source": [
    "def determinant(matrix):\n",
    "    total = 0\n",
    "    indices = list(range(len(matrix)))\n",
    "     \n",
    "    if len(matrix) == 1 and len(matrix[0]) == 1:\n",
    "        return matrix[0][0]\n",
    "        \n",
    "    elif len(matrix) == 2 and len(matrix[0]) == 2:\n",
    "        return matrix[0][0] * matrix[1][1] - matrix[1][0] * matrix[0][1]\n",
    "        \n",
    "    else:\n",
    "        for fc in indices:\n",
    "            As = matrix.copy()\n",
    "            As = As[1:] \n",
    "            height = len(As)\n",
    " \n",
    "            for i in range(height): \n",
    "                As[i] = As[i][0:fc] + As[i][fc+1:] \n",
    " \n",
    "            sign = (-1) ** (fc % 2)\n",
    "            sub_det = determinant(As)\n",
    "            total += sign * matrix[0][fc] * sub_det \n",
    " \n",
    "        return total"
   ]
  },
  {
   "cell_type": "code",
   "execution_count": 61,
   "metadata": {},
   "outputs": [
    {
     "name": "stdout",
     "output_type": "stream",
     "text": [
      "230\n",
      "228\n",
      "None\n"
     ]
    }
   ],
   "source": [
    "xs = [100, 76, 56, 44, 89, 73, 68, 56, 64, 123, 2333, 144, 50, 132, 123, 34, 89]\n",
    "route = choose_best_sum(230, 4, xs)\n",
    "print(route)\n",
    "\n",
    "ys = [91, 74, 73, 85, 73, 81, 87] \n",
    "route2= choose_best_sum(230, 3, ys)\n",
    "print(route2)\n",
    "\n",
    "\n",
    "\n",
    "route3= choose_best_sum(430, 8, xs)\n",
    "print(route3)"
   ]
  },
  {
   "cell_type": "code",
   "execution_count": 60,
   "metadata": {},
   "outputs": [],
   "source": [
    "import itertools\n",
    "from itertools import compress\n",
    "def choose_best_sum(t, k, ls):\n",
    "    combi = list(itertools.combinations(ls, k))\n",
    "    list_sum = [sum(x) for x in combi]\n",
    "    list_sum.sort()\n",
    "    if t in list_sum:\n",
    "        return t\n",
    "    else:\n",
    "        best_list = [x<t for x in list_sum]\n",
    "        best = list(compress(list_sum,best_list))\n",
    "        if best == []:\n",
    "            return None\n",
    "        return best[-1]"
   ]
  },
  {
   "cell_type": "code",
   "execution_count": 65,
   "metadata": {},
   "outputs": [
    {
     "name": "stdout",
     "output_type": "stream",
     "text": [
      "23\n"
     ]
    }
   ],
   "source": [
    "liste = [[3], [7, 4], [2, 4, 6], [8, 5, 9, 3]]\n",
    "output = longest_slide_down(liste)\n",
    "print(output)"
   ]
  },
  {
   "cell_type": "code",
   "execution_count": 68,
   "metadata": {},
   "outputs": [
    {
     "name": "stdout",
     "output_type": "stream",
     "text": [
      "1074\n"
     ]
    }
   ],
   "source": [
    "liste = [[75],\n",
    "         [95, 64],\n",
    "         [17, 47, 82],\n",
    "         [18, 35, 87, 10],\n",
    "         [20,  4, 82, 47, 65],\n",
    "         [19,  1, 23, 75,  3, 34],\n",
    "         [88,  2, 77, 73,  7, 63, 67],\n",
    "         [99, 65,  4, 28,  6, 16, 70, 92],\n",
    "         [41, 41, 26, 56, 83, 40, 80, 70, 33],\n",
    "         [41, 48, 72, 33, 47, 32, 37, 16, 94, 29],\n",
    "         [53, 71, 44, 65, 25, 43, 91, 52, 97, 51, 14],\n",
    "         [70, 11, 33, 28, 77, 73, 17, 78, 39, 68, 17, 57],\n",
    "         [91, 71, 52, 38, 17, 14, 91, 43, 58, 50, 27, 29, 48],\n",
    "         [63, 66,  4, 68, 89, 53, 67, 30, 73, 16, 69, 87, 40, 31],\n",
    "         [ 4, 62, 98, 27, 23,  9, 70, 98, 73, 93, 38, 53, 60,  4, 23],\n",
    "        ]\n",
    "output = longest_slide_down(liste)\n",
    "print(output)"
   ]
  },
  {
   "cell_type": "code",
   "execution_count": 67,
   "metadata": {},
   "outputs": [],
   "source": [
    "def longest_slide_down(pyramid):\n",
    "    res = pyramid.pop()\n",
    "    while pyramid:\n",
    "        tmp = pyramid.pop()\n",
    "        res = [tmp[i] + max(res[i],res[i+1])  for i in range(len(tmp))] \n",
    "    return res.pop()"
   ]
  },
  {
   "cell_type": "code",
   "execution_count": 121,
   "metadata": {},
   "outputs": [
    {
     "name": "stdout",
     "output_type": "stream",
     "text": [
      "True\n"
     ]
    }
   ],
   "source": [
    "output = scramble('scraiptingjva', 'javascript')\n",
    "print(output)"
   ]
  },
  {
   "cell_type": "code",
   "execution_count": 120,
   "metadata": {},
   "outputs": [],
   "source": [
    "def scramble(s1, s2):\n",
    "    return len([x for x in set(s2) if s1.count(x) >= s2.count(x)]) == len(set(s2))"
   ]
  },
  {
   "cell_type": "code",
   "execution_count": 182,
   "metadata": {},
   "outputs": [
    {
     "name": "stdout",
     "output_type": "stream",
     "text": [
      "[\"won't\", 'wont']\n"
     ]
    }
   ],
   "source": [
    "words = top_3_words(\"  //wont won't won't \")\n",
    "print(words)"
   ]
  },
  {
   "cell_type": "code",
   "execution_count": 225,
   "metadata": {},
   "outputs": [],
   "source": [
    "from collections import Counter\n",
    "import re\n",
    "\n",
    "def top_3_words(text):\n",
    "    counter = Counter(re.findall(r\"[a-z']+\", re.sub(r\" '+ \", \" \", text.lower())))\n",
    "    return [key for key,value in counter.most_common(3)]"
   ]
  },
  {
   "cell_type": "code",
   "execution_count": 228,
   "metadata": {},
   "outputs": [
    {
     "name": "stdout",
     "output_type": "stream",
     "text": [
      "2 minutes\n"
     ]
    }
   ],
   "source": [
    "time = format_duration(120)\n",
    "print(time)"
   ]
  },
  {
   "cell_type": "code",
   "execution_count": 203,
   "metadata": {},
   "outputs": [],
   "source": [
    "from dateutil.relativedelta import relativedelta as rd\n",
    "def format_duration(seconds):\n",
    "    intervals = ['year','days','hours','minutes','seconds']\n",
    "    x = rd(seconds=seconds)\n",
    "    return ' '.join('{} {}'.format(getattr(x,k),k) for k in intervals if getattr(x,k))"
   ]
  },
  {
   "cell_type": "code",
   "execution_count": 227,
   "metadata": {},
   "outputs": [],
   "source": [
    "def format_duration(seconds):\n",
    "    intervals = [\"year\", \"day\", \"hour\", \"minute\", \"second\"]\n",
    "\n",
    "    if not seconds:\n",
    "        return \"now\"\n",
    "    else:\n",
    "        m, s = divmod(seconds, 60)\n",
    "        h, m = divmod(m, 60)\n",
    "        d, h = divmod(h, 24)\n",
    "        y, d = divmod(d, 365)\n",
    "\n",
    "        numbers = [y, d, h, m, s]\n",
    "        \n",
    "        times = [x for x in [f\"{i} {intervals[x]}\" if i == 1 else f\"{i} {intervals[x]}s\" if i > 1 else \"\" for x,i in enumerate(numbers)] if len(x) > 1]\n",
    "        \n",
    "        \n",
    "        if len(times) == 1:\n",
    "            return times[0]\n",
    "        elif len(times) == 2:\n",
    "            return f\"{times[0]} and {times[1]}\"\n",
    "        else:\n",
    "            return \", \".join(times[:-1]) + \" and \" + times[-1]"
   ]
  },
  {
   "cell_type": "code",
   "execution_count": 34,
   "metadata": {},
   "outputs": [
    {
     "name": "stdout",
     "output_type": "stream",
     "text": [
      "2\n"
     ]
    }
   ],
   "source": [
    "number = count_smileys([';]', ':[', ';*', ':$', ';-D',':-)'])\n",
    "print(number)"
   ]
  },
  {
   "cell_type": "code",
   "execution_count": 33,
   "metadata": {},
   "outputs": [],
   "source": [
    "def count_smileys(arr):\n",
    "    \n",
    "    valid_eyes = [':',';']\n",
    "    valid_nose = ['-','~']\n",
    "    valid_mouth = [')', 'D']\n",
    "    \n",
    "    valid_smileys = len([x for x in arr if (len(x) == 2 and x[0] in valid_eyes and x[1] in valid_mouth) or (len(x) == 3 and  x[0] in valid_eyes and x[1] in valid_nose and x[2] in valid_mouth)])\n",
    "    \n",
    "    return valid_smileys\n",
    "    "
   ]
  },
  {
   "cell_type": "code",
   "execution_count": 247,
   "metadata": {},
   "outputs": [
    {
     "name": "stdout",
     "output_type": "stream",
     "text": [
      "dlrow\n"
     ]
    }
   ],
   "source": [
    "print(solution('world'))"
   ]
  },
  {
   "cell_type": "code",
   "execution_count": 250,
   "metadata": {},
   "outputs": [],
   "source": [
    "def solution(string):\n",
    "    return string[::-1]"
   ]
  },
  {
   "cell_type": "code",
   "execution_count": 257,
   "metadata": {},
   "outputs": [
    {
     "name": "stdout",
     "output_type": "stream",
     "text": [
      "[1, 3, 2, 5, 3]\n"
     ]
    }
   ],
   "source": [
    "print(digitize(35231))"
   ]
  },
  {
   "cell_type": "code",
   "execution_count": 256,
   "metadata": {},
   "outputs": [],
   "source": [
    "def digitize(n):\n",
    "    return [int(num) for num in str(n)][::-1]"
   ]
  },
  {
   "cell_type": "code",
   "execution_count": 302,
   "metadata": {},
   "outputs": [
    {
     "name": "stdout",
     "output_type": "stream",
     "text": [
      "0\n"
     ]
    }
   ],
   "source": [
    "print(find_even_index([20,10,-80,10,10,15,35]))"
   ]
  },
  {
   "cell_type": "code",
   "execution_count": 299,
   "metadata": {},
   "outputs": [],
   "source": [
    "def find_even_index(arr):\n",
    "    for x in range(len(arr)):\n",
    "        if sum(arr[:x]) == sum(arr[x+1:]):\n",
    "            return x\n",
    "        else:\n",
    "            continue\n",
    "    return -1"
   ]
  },
  {
   "cell_type": "code",
   "execution_count": 327,
   "metadata": {},
   "outputs": [
    {
     "name": "stdout",
     "output_type": "stream",
     "text": [
      "True\n"
     ]
    }
   ],
   "source": [
    "print(is_square(4))"
   ]
  },
  {
   "cell_type": "code",
   "execution_count": 326,
   "metadata": {},
   "outputs": [],
   "source": [
    "def is_square(n):    \n",
    "    return True if (n == 0 or ((int(n**(0.5))*(int(n**(0.5))) == n))) else False   "
   ]
  },
  {
   "cell_type": "code",
   "execution_count": 7,
   "metadata": {},
   "outputs": [
    {
     "name": "stdout",
     "output_type": "stream",
     "text": [
      "3\n"
     ]
    }
   ],
   "source": [
    "print(solution(5))"
   ]
  },
  {
   "cell_type": "code",
   "execution_count": 5,
   "metadata": {},
   "outputs": [],
   "source": [
    "def solution(number):\n",
    "    return sum([x for x in range(number) if (x % 3 ==0 or x % 5 ==0)]) "
   ]
  },
  {
   "cell_type": "code",
   "execution_count": 9,
   "metadata": {},
   "outputs": [
    {
     "name": "stdout",
     "output_type": "stream",
     "text": [
      "20 8 5 19 21 14 19 5 20 19 5 20 19 1 20 20 23 5 12 22 5 15 3 12 15 3 11\n"
     ]
    }
   ],
   "source": [
    "print(alphabet_position(\"The sunset sets at twelve o' clock.\"))"
   ]
  },
  {
   "cell_type": "code",
   "execution_count": 8,
   "metadata": {},
   "outputs": [],
   "source": [
    "def alphabet_position(text):\n",
    "    return ' '.join(str(ord(character) - 96) for character in text.lower() if character.isalpha())"
   ]
  },
  {
   "cell_type": "code",
   "execution_count": 11,
   "metadata": {},
   "outputs": [
    {
     "name": "stdout",
     "output_type": "stream",
     "text": [
      "['Ryan', 'Mark']\n"
     ]
    }
   ],
   "source": [
    "print(friend([\"Ryan\", \"Kieran\", \"Mark\",]))"
   ]
  },
  {
   "cell_type": "code",
   "execution_count": 10,
   "metadata": {},
   "outputs": [],
   "source": [
    "def friend(x):\n",
    "    return [name for name in x if len(name)==4]"
   ]
  },
  {
   "cell_type": "code",
   "execution_count": 20,
   "metadata": {},
   "outputs": [
    {
     "name": "stdout",
     "output_type": "stream",
     "text": [
      "[5, 3, 1]\n",
      "[1, 3, 2, 8, 5, 4]\n"
     ]
    }
   ],
   "source": [
    "print(sort_array([5, 3, 2, 8, 1, 4]))"
   ]
  },
  {
   "cell_type": "code",
   "execution_count": 19,
   "metadata": {},
   "outputs": [],
   "source": [
    "def sort_array(source_array):\n",
    "    odds = sorted((x for x in source_array if x%2 != 0), reverse=True)\n",
    "    print(odds)\n",
    "    return [x if x%2==0 else odds.pop() for x in source_array]"
   ]
  },
  {
   "cell_type": "code",
   "execution_count": 24,
   "metadata": {},
   "outputs": [
    {
     "name": "stdout",
     "output_type": "stream",
     "text": [
      "11\n"
     ]
    }
   ],
   "source": [
    "print(basic_op('+', 4, 7))"
   ]
  },
  {
   "cell_type": "code",
   "execution_count": 23,
   "metadata": {},
   "outputs": [],
   "source": [
    "def basic_op(operator, value1, value2):\n",
    "    if operator == \"+\":\n",
    "        return value1+value2\n",
    "    elif operator == \"-\":\n",
    "        return value1-value2\n",
    "    elif operator == \"*\":\n",
    "        return value1*value2\n",
    "    else:\n",
    "        if value2 == 0:\n",
    "            return -1\n",
    "        else:\n",
    "            return value1/value2"
   ]
  },
  {
   "cell_type": "code",
   "execution_count": 26,
   "metadata": {},
   "outputs": [
    {
     "name": "stdout",
     "output_type": "stream",
     "text": [
      "[10, -65]\n"
     ]
    }
   ],
   "source": [
    "print(count_positives_sum_negatives([1, 2, 3, 4, 5, 6, 7, 8, 9, 10, -11, -12, -13, -14, -15]))"
   ]
  },
  {
   "cell_type": "code",
   "execution_count": 28,
   "metadata": {},
   "outputs": [],
   "source": [
    "def count_positives_sum_negatives(arr):\n",
    "    return [len([x for x in arr if x>0]), sum([x for x in arr if x<0])] if len(arr) else []"
   ]
  },
  {
   "cell_type": "code",
   "execution_count": 30,
   "metadata": {},
   "outputs": [
    {
     "name": "stdout",
     "output_type": "stream",
     "text": [
      "S.H\n"
     ]
    }
   ],
   "source": [
    "print(abbrev_name(\"Sam Harris\"))"
   ]
  },
  {
   "cell_type": "code",
   "execution_count": 29,
   "metadata": {},
   "outputs": [],
   "source": [
    "def abbrev_name(name):\n",
    "    return f\"{name.split()[0][0].upper()}.{name.split()[1][0].upper()}\""
   ]
  },
  {
   "cell_type": "code",
   "execution_count": 32,
   "metadata": {},
   "outputs": [
    {
     "name": "stdout",
     "output_type": "stream",
     "text": [
      "50\n"
     ]
    }
   ],
   "source": [
    "print(square_sum([0, 3, 4, 5]))"
   ]
  },
  {
   "cell_type": "code",
   "execution_count": 31,
   "metadata": {},
   "outputs": [],
   "source": [
    "def square_sum(numbers):\n",
    "    return sum([x**2 for x in numbers])"
   ]
  },
  {
   "cell_type": "code",
   "execution_count": 58,
   "metadata": {},
   "outputs": [
    {
     "name": "stdout",
     "output_type": "stream",
     "text": [
      "False\n"
     ]
    }
   ],
   "source": [
    "print(comp([121, 144, 19, 161, 19, 144, 19, 11],[11*21, 121*121, 144*144, 19*19, 161*161, 19*19, 144*144, 19*19]))"
   ]
  },
  {
   "cell_type": "code",
   "execution_count": 59,
   "metadata": {},
   "outputs": [],
   "source": [
    "def comp(array1, array2):\n",
    "    if array1 != None and array2 != None:\n",
    "        square = [int(x**2) for x in array1]\n",
    "        square.sort()\n",
    "        array2.sort()\n",
    "        if array2 == square:\n",
    "            return True\n",
    "        else:\n",
    "            return False\n",
    "    else:\n",
    "        return False"
   ]
  },
  {
   "cell_type": "code",
   "execution_count": 79,
   "metadata": {},
   "outputs": [
    {
     "name": "stdout",
     "output_type": "stream",
     "text": [
      "811181\n"
     ]
    }
   ],
   "source": [
    "print(square_digits(9119))"
   ]
  },
  {
   "cell_type": "code",
   "execution_count": 78,
   "metadata": {},
   "outputs": [],
   "source": [
    "def square_digits(num):\n",
    "    return \"\".join([str(int(x)**2) for x in str(num)])"
   ]
  },
  {
   "cell_type": "code",
   "execution_count": 98,
   "metadata": {},
   "outputs": [
    {
     "name": "stdout",
     "output_type": "stream",
     "text": [
      "['A']\n"
     ]
    }
   ],
   "source": [
    "print(unique_in_order([\"A\"]))"
   ]
  },
  {
   "cell_type": "code",
   "execution_count": 97,
   "metadata": {},
   "outputs": [],
   "source": [
    "def unique_in_order(iterable):\n",
    "    return [iterable[index] for index in range(len(iterable)) if iterable[index] != iterable[index-1] or index == 0] "
   ]
  },
  {
   "cell_type": "code",
   "execution_count": 105,
   "metadata": {},
   "outputs": [
    {
     "name": "stdout",
     "output_type": "stream",
     "text": [
      "-1\n"
     ]
    }
   ],
   "source": [
    "print(get_sum(0,-1))"
   ]
  },
  {
   "cell_type": "code",
   "execution_count": 104,
   "metadata": {},
   "outputs": [],
   "source": [
    "def get_sum(a,b):\n",
    "    if a < b:\n",
    "        return sum(x for x in range(a,b+1)) \n",
    "    elif b < a:\n",
    "        return sum(x for x in range(b,a+1)) \n",
    "    else:\n",
    "        return b"
   ]
  },
  {
   "cell_type": "code",
   "execution_count": 108,
   "metadata": {},
   "outputs": [
    {
     "ename": "NameError",
     "evalue": "name 'x' is not defined",
     "output_type": "error",
     "traceback": [
      "\u001b[1;31m---------------------------------------------------------------------------\u001b[0m",
      "\u001b[1;31mNameError\u001b[0m                                 Traceback (most recent call last)",
      "\u001b[1;32m<ipython-input-108-a39d2151d459>\u001b[0m in \u001b[0;36m<module>\u001b[1;34m\u001b[0m\n\u001b[1;32m----> 1\u001b[1;33m \u001b[0mprint\u001b[0m\u001b[1;33m(\u001b[0m\u001b[0mbinomialCoef\u001b[0m\u001b[1;33m(\u001b[0m\u001b[1;33m(\u001b[0m\u001b[0mx\u001b[0m\u001b[1;33m+\u001b[0m\u001b[1;36m1\u001b[0m\u001b[1;33m)\u001b[0m\u001b[1;33m,\u001b[0m \u001b[1;36m1\u001b[0m\u001b[1;33m)\u001b[0m\u001b[1;33m)\u001b[0m\u001b[1;33m\u001b[0m\u001b[1;33m\u001b[0m\u001b[0m\n\u001b[0m",
      "\u001b[1;31mNameError\u001b[0m: name 'x' is not defined"
     ]
    }
   ],
   "source": [
    "print(binomialCoef((x+1), 1))"
   ]
  },
  {
   "cell_type": "code",
   "execution_count": 191,
   "metadata": {},
   "outputs": [],
   "source": [
    "import re\n",
    "from math import comb\n",
    "\n",
    "def expand(string):\n",
    "    cutted = cut_string(string)\n",
    "    print(cutted)\n",
    "    counted_list = counter(cutted)\n",
    "    print(counted_list)\n",
    "    final = string_builder(counted_list)\n",
    "    print(final)\n",
    "    \n",
    "\n",
    "\n",
    "def cut_string(string):\n",
    "    factorpattern = r\"[-]?[\\d]*\"\n",
    "    variablepattern = r\"[a-z]\"\n",
    "    patternA = factorpattern + variablepattern\n",
    "    patternB = r\"[+-][\\d]+\\)\"\n",
    "    patternN = r\"\\)\\^[\\d]+\"\n",
    "    \n",
    "    findA = re.compile(patternA)\n",
    "    findB = re.compile(patternB)\n",
    "    findN = re.compile(patternN)\n",
    "    findfactor = re.compile(factorpattern)\n",
    "    findvariable = re.compile(variablepattern)\n",
    "    \n",
    "    A = findA.findall(string)[0]\n",
    "    \n",
    "    if findfactor.findall(A)[0] == \"-\":\n",
    "        factor = -1\n",
    "    elif findfactor.findall(A)[0] == \"\":\n",
    "        factor = 1\n",
    "    else: \n",
    "        factor = findfactor.findall(A)[0]\n",
    "    \n",
    "    return [[int(factor), findvariable.findall(A)[0]],int(findB.findall(string)[0][:-1]),int(findN.findall(string)[0][2:])]\n",
    "\n",
    "\n",
    "def counter(cutted_list):\n",
    "    factor = cutted_list[0][0]\n",
    "    variable = cutted_list[0][1]\n",
    "    B = cutted_list[1]\n",
    "    N = cutted_list[2]\n",
    "    final_list = []\n",
    "    \n",
    "    for x in range(N+1):\n",
    "        final_list.append([comb(N,x) * (factor**(N-x))*(B**x), '', 1]) if N-x == 0 else final_list.append([comb(N,x) * (factor**(N-x))*(B**x), variable, N-x])\n",
    "    \n",
    "    return final_list\n",
    "\n",
    "\n",
    "def string_builder(list_of_lists):\n",
    "    \n",
    "    string_text = \"\"\n",
    "    \n",
    "    for x in list_of_lists:\n",
    "        temp = \"\"\n",
    "        if x[0] > 0:\n",
    "            temp += \"+\"\n",
    "        if x[0] == 1 and x[1] != \"\":\n",
    "            temp += x[1]\n",
    "        elif x[0] == -1 and x[1] != \"\":\n",
    "            temp += \"-\"+x[1]\n",
    "        else:\n",
    "            temp += str(x[0]) + x[1]\n",
    "        if x[2] != 1:\n",
    "            temp += \"^\"+str(x[2])\n",
    "        if x[0] != 0:\n",
    "            string_text += temp\n",
    "            \n",
    "    if string_text[0] == \"+\":\n",
    "        string_text = string_text[1:]\n",
    "        \n",
    "    return string_text\n"
   ]
  },
  {
   "cell_type": "code",
   "execution_count": 192,
   "metadata": {},
   "outputs": [
    {
     "name": "stdout",
     "output_type": "stream",
     "text": [
      "[[1, 'x'], -1, 2]\n",
      "[[1, 'x', 2], [-2, 'x', 1], [1, '', 1]]\n",
      "x^2-2x+1\n",
      "None\n"
     ]
    }
   ],
   "source": [
    "print(expand(\"(x-1)^2\"))"
   ]
  },
  {
   "cell_type": "code",
   "execution_count": 193,
   "metadata": {},
   "outputs": [],
   "source": [
    "import re\n",
    "\n",
    "P = re.compile(r'\\((-?\\d*)(\\w)\\+?(-?\\d+)\\)\\^(\\d+)')\n",
    "\n",
    "def expand(expr):\n",
    "    a,v,b,e = P.findall(expr)[0]\n",
    "    \n",
    "    if e=='0': return '1'\n",
    "    \n",
    "    o   = [int(a!='-' and a or a and '-1' or '1'), int(b)]\n",
    "    e,p = int(e), o[:]\n",
    "    \n",
    "    for _ in range(e-1):\n",
    "        p.append(0)\n",
    "        p = [o[0] * coef + p[i-1]*o[1] for i,coef in enumerate(p)]\n",
    "    \n",
    "    res = '+'.join(f'{coef}{v}^{e-i}' if i!=e else str(coef) for i,coef in enumerate(p) if coef)\n",
    "    \n",
    "    return re.sub(r'\\b1(?=[a-z])|\\^1\\b', '', res).replace('+-','-')"
   ]
  },
  {
   "cell_type": "code",
   "execution_count": 194,
   "metadata": {},
   "outputs": [
    {
     "name": "stdout",
     "output_type": "stream",
     "text": [
      "x^2-2x+1\n"
     ]
    }
   ],
   "source": [
    "print(expand(\"(x-1)^2\"))"
   ]
  },
  {
   "cell_type": "code",
   "execution_count": 21,
   "metadata": {},
   "outputs": [
    {
     "name": "stdout",
     "output_type": "stream",
     "text": [
      "(123) 456-7890\n",
      "(123) 456-7890\n"
     ]
    }
   ],
   "source": [
    "print(create_phone_number([1, 2, 3, 4, 5, 6, 7, 8, 9, 0]))\n",
    "print(\"(123) 456-7890\")"
   ]
  },
  {
   "cell_type": "code",
   "execution_count": 20,
   "metadata": {},
   "outputs": [],
   "source": [
    "def create_phone_number(n):\n",
    "    numbers_in_one_string = \"\".join(str(x) for x in n)\n",
    "    return f\"({numbers_in_one_string[:3]}) {numbers_in_one_string[3:6]}-{numbers_in_one_string[6:]}\""
   ]
  },
  {
   "cell_type": "code",
   "execution_count": 90,
   "metadata": {},
   "outputs": [
    {
     "name": "stdout",
     "output_type": "stream",
     "text": [
      "True\n"
     ]
    }
   ],
   "source": [
    "print(valid_parentheses('hi(hi)()'))"
   ]
  },
  {
   "cell_type": "code",
   "execution_count": 89,
   "metadata": {},
   "outputs": [],
   "source": [
    "def valid_parentheses(string):\n",
    "    c = 0\n",
    "    \n",
    "    for x in string:\n",
    "        if x == '(':\n",
    "            c += 1 \n",
    "        if x == ')':\n",
    "            c -= 1\n",
    "        if c < 0:\n",
    "            return False\n",
    "        \n",
    "    return c == 0"
   ]
  },
  {
   "cell_type": "code",
   "execution_count": 99,
   "metadata": {},
   "outputs": [
    {
     "name": "stdout",
     "output_type": "stream",
     "text": [
      "True\n"
     ]
    }
   ],
   "source": [
    "print(narcissistic(371))"
   ]
  },
  {
   "cell_type": "code",
   "execution_count": 98,
   "metadata": {},
   "outputs": [],
   "source": [
    "def narcissistic( value ):\n",
    "    return value == sum([int(x)**(len(str(value))) for x in str(value)])"
   ]
  },
  {
   "cell_type": "code",
   "execution_count": 104,
   "metadata": {},
   "outputs": [
    {
     "name": "stdout",
     "output_type": "stream",
     "text": [
      "['Open', 'Senior', 'Open', 'Senior']\n"
     ]
    }
   ],
   "source": [
    "print(open_or_senior([(45, 12),(55,21),(19, -2),(104, 20)]))#,['Open', 'Senior', 'Open', 'Senior']"
   ]
  },
  {
   "cell_type": "code",
   "execution_count": 103,
   "metadata": {},
   "outputs": [],
   "source": [
    "def open_or_senior(data):\n",
    "    return [\"Senior\" if (x[0] >= 55 and x[1] > 7) else \"Open\" for x in data ]"
   ]
  },
  {
   "cell_type": "code",
   "execution_count": 109,
   "metadata": {},
   "outputs": [
    {
     "name": "stdout",
     "output_type": "stream",
     "text": [
      "found the needle at position 3\n"
     ]
    }
   ],
   "source": [
    "print(find_needle(['3', '123124234', None, 'needle', 'world', 'hay', 2, '3', True, False]))"
   ]
  },
  {
   "cell_type": "code",
   "execution_count": 108,
   "metadata": {},
   "outputs": [],
   "source": [
    "def find_needle(haystack):\n",
    "    return f\"found the needle at position {haystack.index('needle')}\""
   ]
  },
  {
   "cell_type": "code",
   "execution_count": 137,
   "metadata": {},
   "outputs": [
    {
     "name": "stdout",
     "output_type": "stream",
     "text": [
      "Hey wollef sroirraw\n"
     ]
    }
   ],
   "source": [
    "print(spin_words(\"Hey fellow warriors\"))"
   ]
  },
  {
   "cell_type": "code",
   "execution_count": 136,
   "metadata": {},
   "outputs": [],
   "source": [
    "def spin_words(sentence):\n",
    "    return \" \".join([x[-1::-1] if len(x) >= 5 else x for x in sentence.split(\" \")])"
   ]
  },
  {
   "cell_type": "code",
   "execution_count": 210,
   "metadata": {},
   "outputs": [
    {
     "name": "stdout",
     "output_type": "stream",
     "text": [
      "0.016666666666666666:1.0:00\n"
     ]
    }
   ],
   "source": [
    "print(make_readable(60))"
   ]
  },
  {
   "cell_type": "code",
   "execution_count": 204,
   "metadata": {},
   "outputs": [],
   "source": [
    "def make_readable(seconds):\n",
    "    m, s = divmod(seconds, 60)\n",
    "    h, m = divmod(m, 60)\n",
    "        \n",
    "    numbers = [h, m, s]\n",
    "\n",
    "    return \":\".join(x for x in [f\"0{x}\" if x < 10 else x for x in numbers])"
   ]
  },
  {
   "cell_type": "code",
   "execution_count": 225,
   "metadata": {},
   "outputs": [
    {
     "name": "stdout",
     "output_type": "stream",
     "text": [
      "Ths wbst s fr lsrs LL!\n"
     ]
    }
   ],
   "source": [
    "print(disemvowel(\"This website is for losers LOL!\"))"
   ]
  },
  {
   "cell_type": "code",
   "execution_count": 224,
   "metadata": {},
   "outputs": [],
   "source": [
    "def disemvowel(string_):\n",
    "    return \"\".join([x for x in string_ if x not in \"aeiouAEIOU\"])"
   ]
  },
  {
   "cell_type": "code",
   "execution_count": 14,
   "metadata": {},
   "outputs": [
    {
     "name": "stdout",
     "output_type": "stream",
     "text": [
      "[3, 6, 9, 12, 15]\n"
     ]
    }
   ],
   "source": [
    "print(count_by(3, 5))"
   ]
  },
  {
   "cell_type": "code",
   "execution_count": 13,
   "metadata": {},
   "outputs": [],
   "source": [
    "def count_by(x, n):\n",
    "    return [x+(x*i) for i in range(n)]"
   ]
  },
  {
   "cell_type": "code",
   "execution_count": 25,
   "metadata": {},
   "outputs": [
    {
     "name": "stdout",
     "output_type": "stream",
     "text": [
      "['aabb', 'bbaa']\n"
     ]
    }
   ],
   "source": [
    "print(anagrams('abba', ['aabb', 'abcd', 'bbaa', 'dada']))"
   ]
  },
  {
   "cell_type": "code",
   "execution_count": 24,
   "metadata": {},
   "outputs": [],
   "source": [
    "def anagrams(word, words):\n",
    "    return [x for x in words if(sorted(word) == sorted(x))]"
   ]
  },
  {
   "cell_type": "code",
   "execution_count": 38,
   "metadata": {},
   "outputs": [
    {
     "name": "stdout",
     "output_type": "stream",
     "text": [
      "False\n"
     ]
    }
   ],
   "source": [
    "print(is_valid_walk(['w','e','w','e','w','e','w','e','w','e','w','e']))"
   ]
  },
  {
   "cell_type": "code",
   "execution_count": 37,
   "metadata": {},
   "outputs": [],
   "source": [
    "def is_valid_walk(walk):\n",
    "    if len(walk) == 10:\n",
    "        return (walk.count(\"n\") == walk.count(\"s\") and walk.count(\"w\") == walk.count(\"e\"))\n",
    "    else:\n",
    "        return False"
   ]
  },
  {
   "cell_type": "code",
   "execution_count": 19,
   "metadata": {},
   "outputs": [
    {
     "name": "stdout",
     "output_type": "stream",
     "text": [
      " !,abcdefghijklmnopqrstuvwxyz\n",
      "True\n"
     ]
    }
   ],
   "source": [
    "pangram = \"The quick, brown fox jumps over the lazy dog!\"\n",
    "print(is_pangram(pangram))"
   ]
  },
  {
   "cell_type": "code",
   "execution_count": 18,
   "metadata": {},
   "outputs": [],
   "source": [
    "def is_pangram(s):\n",
    "    return \"abcdefghijklmnopqrstuvwxyz\" in \"\".join(sorted(set(s.lower())))"
   ]
  },
  {
   "cell_type": "code",
   "execution_count": 20,
   "metadata": {},
   "outputs": [],
   "source": []
  },
  {
   "cell_type": "code",
   "execution_count": null,
   "metadata": {},
   "outputs": [],
   "source": []
  }
 ],
 "metadata": {
  "kernelspec": {
   "display_name": "Python 3 (ipykernel)",
   "language": "python",
   "name": "python3"
  },
  "language_info": {
   "codemirror_mode": {
    "name": "ipython",
    "version": 3
   },
   "file_extension": ".py",
   "mimetype": "text/x-python",
   "name": "python",
   "nbconvert_exporter": "python",
   "pygments_lexer": "ipython3",
   "version": "3.9.12"
  }
 },
 "nbformat": 4,
 "nbformat_minor": 4
}
